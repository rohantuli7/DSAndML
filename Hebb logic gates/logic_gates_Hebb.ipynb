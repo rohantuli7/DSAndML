{
 "cells": [
  {
   "cell_type": "markdown",
   "metadata": {
    "toc": true
   },
   "source": [
    "<h1>Table of Contents<span class=\"tocSkip\"></span></h1>\n",
    "<div class=\"toc\"><ul class=\"toc-item\"><li><span><a href=\"#AND-Gate\" data-toc-modified-id=\"AND-Gate-1\"><span class=\"toc-item-num\">1&nbsp;&nbsp;</span>AND Gate</a></span></li><li><span><a href=\"#OR-Gate\" data-toc-modified-id=\"OR-Gate-2\"><span class=\"toc-item-num\">2&nbsp;&nbsp;</span>OR Gate</a></span></li><li><span><a href=\"#NAND\" data-toc-modified-id=\"NAND-3\"><span class=\"toc-item-num\">3&nbsp;&nbsp;</span>NAND</a></span></li><li><span><a href=\"#NOR\" data-toc-modified-id=\"NOR-4\"><span class=\"toc-item-num\">4&nbsp;&nbsp;</span>NOR</a></span></li><li><span><a href=\"#NOT\" data-toc-modified-id=\"NOT-5\"><span class=\"toc-item-num\">5&nbsp;&nbsp;</span>NOT</a></span></li></ul></div>"
   ]
  },
  {
   "cell_type": "markdown",
   "metadata": {},
   "source": [
    "# AND Gate"
   ]
  },
  {
   "cell_type": "code",
   "execution_count": 1,
   "metadata": {},
   "outputs": [],
   "source": [
    "import numpy as np\n",
    "x = [[1, 1, 1], [1, -1, 1], [-1, 1, 1], [-1, -1, 1]]\n",
    "y = [1, -1, -1, -1]\n",
    "w = [0, 0, 0]"
   ]
  },
  {
   "cell_type": "code",
   "execution_count": 2,
   "metadata": {},
   "outputs": [
    {
     "name": "stdout",
     "output_type": "stream",
     "text": [
      "Wkj(0) : [1 1 1]\n",
      "Wkj(1) : [0 2 0]\n",
      "Wkj(2) : [ 1  1 -1]\n",
      "Wkj(3) : [ 2  2 -2]\n"
     ]
    }
   ],
   "source": [
    "for i in range(len(x)):\n",
    "    w = w + np.dot(x[i], y[i])\n",
    "    print('Wkj({}) : {}'.format(i,w))"
   ]
  },
  {
   "cell_type": "code",
   "execution_count": 3,
   "metadata": {},
   "outputs": [
    {
     "name": "stdout",
     "output_type": "stream",
     "text": [
      "Weights (w) for AND Gate :  [ 2  2 -2]\n"
     ]
    }
   ],
   "source": [
    "print('Weights (w) for AND Gate : ', w)"
   ]
  },
  {
   "cell_type": "markdown",
   "metadata": {},
   "source": [
    "# OR Gate"
   ]
  },
  {
   "cell_type": "code",
   "execution_count": 4,
   "metadata": {},
   "outputs": [],
   "source": [
    "x = [[1, 1, 1], [1, -1, 1], [-1, 1, 1], [-1, -1, 1]]\n",
    "y = [1, 1, 1, -1]\n",
    "w = [0, 0, 0]"
   ]
  },
  {
   "cell_type": "code",
   "execution_count": 5,
   "metadata": {},
   "outputs": [
    {
     "name": "stdout",
     "output_type": "stream",
     "text": [
      "Wkj(0) : [1 1 1]\n",
      "Wkj(1) : [2 0 2]\n",
      "Wkj(2) : [1 1 3]\n",
      "Wkj(3) : [2 2 2]\n"
     ]
    }
   ],
   "source": [
    "for i in range(len(x)):\n",
    "    w = w + np.dot(x[i], y[i])\n",
    "    print('Wkj({}) : {}'.format(i,w))"
   ]
  },
  {
   "cell_type": "code",
   "execution_count": 6,
   "metadata": {},
   "outputs": [
    {
     "name": "stdout",
     "output_type": "stream",
     "text": [
      "Weights (w) for OR Gate :  [2 2 2]\n"
     ]
    }
   ],
   "source": [
    "print('Weights (w) for OR Gate : ', w)"
   ]
  },
  {
   "cell_type": "markdown",
   "metadata": {},
   "source": [
    "# NAND"
   ]
  },
  {
   "cell_type": "code",
   "execution_count": 7,
   "metadata": {},
   "outputs": [],
   "source": [
    "x = [[1, 1, 1], [1, -1, 1], [-1, 1, 1], [-1, -1, 1]]\n",
    "y = [-1, 1, 1, 1]\n",
    "w = [0, 0, 0]"
   ]
  },
  {
   "cell_type": "code",
   "execution_count": 8,
   "metadata": {},
   "outputs": [
    {
     "name": "stdout",
     "output_type": "stream",
     "text": [
      "Wkj(0) : [-1 -1 -1]\n",
      "Wkj(1) : [ 0 -2  0]\n",
      "Wkj(2) : [-1 -1  1]\n",
      "Wkj(3) : [-2 -2  2]\n"
     ]
    }
   ],
   "source": [
    "for i in range(len(x)):\n",
    "    w = w + np.dot(x[i], y[i])\n",
    "    print('Wkj({}) : {}'.format(i,w))"
   ]
  },
  {
   "cell_type": "code",
   "execution_count": 9,
   "metadata": {},
   "outputs": [
    {
     "name": "stdout",
     "output_type": "stream",
     "text": [
      "Weights (w) for NAND Gate :  [-2 -2  2]\n"
     ]
    }
   ],
   "source": [
    "print('Weights (w) for NAND Gate : ', w)"
   ]
  },
  {
   "cell_type": "markdown",
   "metadata": {},
   "source": [
    "# NOR"
   ]
  },
  {
   "cell_type": "code",
   "execution_count": 10,
   "metadata": {},
   "outputs": [],
   "source": [
    "x = [[1, 1, 1], [1, -1, 1], [-1, 1, 1], [-1, -1, 1]]\n",
    "y = [-1, -1, -1, 1]\n",
    "w = [0, 0, 0]"
   ]
  },
  {
   "cell_type": "code",
   "execution_count": 11,
   "metadata": {},
   "outputs": [
    {
     "name": "stdout",
     "output_type": "stream",
     "text": [
      "Wkj(0) : [-1 -1 -1]\n",
      "Wkj(1) : [-2  0 -2]\n",
      "Wkj(2) : [-1 -1 -3]\n",
      "Wkj(3) : [-2 -2 -2]\n"
     ]
    }
   ],
   "source": [
    "for i in range(len(x)):\n",
    "    w = w + np.dot(x[i], y[i])\n",
    "    print('Wkj({}) : {}'.format(i,w))"
   ]
  },
  {
   "cell_type": "code",
   "execution_count": 12,
   "metadata": {},
   "outputs": [
    {
     "name": "stdout",
     "output_type": "stream",
     "text": [
      "Weights (w) for NOR Gate :  [-2 -2 -2]\n"
     ]
    }
   ],
   "source": [
    "print('Weights (w) for NOR Gate : ', w)"
   ]
  },
  {
   "cell_type": "markdown",
   "metadata": {},
   "source": [
    "# NOT"
   ]
  },
  {
   "cell_type": "code",
   "execution_count": 13,
   "metadata": {},
   "outputs": [],
   "source": [
    "x = [[1, 1], [-1, 1]]\n",
    "y = [-1, 1]\n",
    "w = [0, 0]"
   ]
  },
  {
   "cell_type": "code",
   "execution_count": 14,
   "metadata": {},
   "outputs": [
    {
     "name": "stdout",
     "output_type": "stream",
     "text": [
      "Wkj(0) : [-1 -1]\n",
      "Wkj(1) : [-2  0]\n"
     ]
    }
   ],
   "source": [
    "for i in range(len(x)):\n",
    "    w = w + np.dot(x[i], y[i])\n",
    "    print('Wkj({}) : {}'.format(i,w))"
   ]
  },
  {
   "cell_type": "code",
   "execution_count": 15,
   "metadata": {},
   "outputs": [
    {
     "name": "stdout",
     "output_type": "stream",
     "text": [
      "Weights (w) for NOT Gate :  [-2  0]\n"
     ]
    }
   ],
   "source": [
    "print('Weights (w) for NOT Gate : ', w)"
   ]
  },
  {
   "cell_type": "code",
   "execution_count": null,
   "metadata": {},
   "outputs": [],
   "source": []
  }
 ],
 "metadata": {
  "kernelspec": {
   "display_name": "Python 3 (ipykernel)",
   "language": "python",
   "name": "python3"
  },
  "language_info": {
   "codemirror_mode": {
    "name": "ipython",
    "version": 3
   },
   "file_extension": ".py",
   "mimetype": "text/x-python",
   "name": "python",
   "nbconvert_exporter": "python",
   "pygments_lexer": "ipython3",
   "version": "3.7.4"
  },
  "toc": {
   "base_numbering": 1,
   "nav_menu": {},
   "number_sections": true,
   "sideBar": false,
   "skip_h1_title": false,
   "title_cell": "Table of Contents",
   "title_sidebar": "Contents",
   "toc_cell": true,
   "toc_position": {},
   "toc_section_display": true,
   "toc_window_display": false
  }
 },
 "nbformat": 4,
 "nbformat_minor": 2
}
