{
 "cells": [
  {
   "cell_type": "markdown",
   "metadata": {
    "toc": true
   },
   "source": [
    "<h1>Table of Contents<span class=\"tocSkip\"></span></h1>\n",
    "<div class=\"toc\"><ul class=\"toc-item\"></ul></div>"
   ]
  },
  {
   "cell_type": "code",
   "execution_count": 1,
   "metadata": {},
   "outputs": [],
   "source": [
    "import numpy as np\n",
    "import pandas as pd"
   ]
  },
  {
   "cell_type": "code",
   "execution_count": 2,
   "metadata": {},
   "outputs": [
    {
     "name": "stdout",
     "output_type": "stream",
     "text": [
      "Enter number of input vectors : 4\n",
      "Enter number of clusters : 2\n",
      "Enter the learning rate : 0.2\n"
     ]
    }
   ],
   "source": [
    "n = int(input('Enter number of input vectors : '))\n",
    "clusters = int(input('Enter number of clusters : '))\n",
    "learning_rate = float(input('Enter the learning rate : '))"
   ]
  },
  {
   "cell_type": "code",
   "execution_count": 3,
   "metadata": {},
   "outputs": [],
   "source": [
    "w1 = np.array([0.2, 0.04, 0.6, 0.8])\n",
    "w2 = np.array([0.9, 0.7, 0.5, 0.3])"
   ]
  },
  {
   "cell_type": "code",
   "execution_count": 4,
   "metadata": {},
   "outputs": [
    {
     "name": "stdout",
     "output_type": "stream",
     "text": [
      "Enter input pattern : 1 0 1 0\n"
     ]
    }
   ],
   "source": [
    "x1 = np.array(list(map(int, input('Enter input pattern : ').strip().split())))"
   ]
  },
  {
   "cell_type": "code",
   "execution_count": 5,
   "metadata": {},
   "outputs": [],
   "source": [
    "df = pd.DataFrame()"
   ]
  },
  {
   "cell_type": "code",
   "execution_count": 6,
   "metadata": {},
   "outputs": [],
   "source": [
    "e1 = np.sum((w1 - x1)**2)\n",
    "e2 = np.sum((w2 - x1)**2)"
   ]
  },
  {
   "cell_type": "code",
   "execution_count": 7,
   "metadata": {},
   "outputs": [
    {
     "name": "stdout",
     "output_type": "stream",
     "text": [
      "Euclidean distance (e1) :  1.4416000000000002\n",
      "Euclidean distance (e2) :  0.84\n"
     ]
    }
   ],
   "source": [
    "print('Euclidean distance (e1) : ', e1)\n",
    "print('Euclidean distance (e2) : ', e2)"
   ]
  },
  {
   "cell_type": "code",
   "execution_count": 8,
   "metadata": {},
   "outputs": [
    {
     "name": "stdout",
     "output_type": "stream",
     "text": [
      "Cluster 2 is the winner \n",
      "\n",
      "Updated weights w(0)  :  0.92 \n",
      "\n",
      "Updated weights w(1)  :  0.5599999999999999 \n",
      "\n",
      "Updated weights w(2)  :  0.6 \n",
      "\n",
      "Updated weights w(3)  :  0.24 \n",
      "\n"
     ]
    }
   ],
   "source": [
    "if e1<e2:\n",
    "    print('Cluster 1 is the winner \\n')\n",
    "    df['Old'] = w1\n",
    "    for i in range(n):\n",
    "        w1[i] = w1[i] + (learning_rate*(x1[i] - w1[i]))\n",
    "        print('Updated weights : ', w1[i], '\\n')\n",
    "    df['Updated'] = w1\n",
    "else:\n",
    "    print('Cluster 2 is the winner \\n')\n",
    "    df['Old'] = w2\n",
    "    for i in range(n):\n",
    "        w2[i] = w2[i] + (learning_rate*(x1[i] - w2[i]))\n",
    "        print(f'Updated weights w({i})  : ', w2[i], '\\n')\n",
    "    df['Updated'] = w2"
   ]
  },
  {
   "cell_type": "code",
   "execution_count": 9,
   "metadata": {},
   "outputs": [
    {
     "name": "stdout",
     "output_type": "stream",
     "text": [
      "Weights before and after updation : \n"
     ]
    },
    {
     "data": {
      "text/html": [
       "<div>\n",
       "<style scoped>\n",
       "    .dataframe tbody tr th:only-of-type {\n",
       "        vertical-align: middle;\n",
       "    }\n",
       "\n",
       "    .dataframe tbody tr th {\n",
       "        vertical-align: top;\n",
       "    }\n",
       "\n",
       "    .dataframe thead th {\n",
       "        text-align: right;\n",
       "    }\n",
       "</style>\n",
       "<table border=\"1\" class=\"dataframe\">\n",
       "  <thead>\n",
       "    <tr style=\"text-align: right;\">\n",
       "      <th></th>\n",
       "      <th>Old</th>\n",
       "      <th>Updated</th>\n",
       "    </tr>\n",
       "  </thead>\n",
       "  <tbody>\n",
       "    <tr>\n",
       "      <td>0</td>\n",
       "      <td>0.9</td>\n",
       "      <td>0.92</td>\n",
       "    </tr>\n",
       "    <tr>\n",
       "      <td>1</td>\n",
       "      <td>0.7</td>\n",
       "      <td>0.56</td>\n",
       "    </tr>\n",
       "    <tr>\n",
       "      <td>2</td>\n",
       "      <td>0.5</td>\n",
       "      <td>0.60</td>\n",
       "    </tr>\n",
       "    <tr>\n",
       "      <td>3</td>\n",
       "      <td>0.3</td>\n",
       "      <td>0.24</td>\n",
       "    </tr>\n",
       "  </tbody>\n",
       "</table>\n",
       "</div>"
      ],
      "text/plain": [
       "   Old  Updated\n",
       "0  0.9     0.92\n",
       "1  0.7     0.56\n",
       "2  0.5     0.60\n",
       "3  0.3     0.24"
      ]
     },
     "metadata": {},
     "output_type": "display_data"
    }
   ],
   "source": [
    "print('Weights before and after updation : ')\n",
    "display(df)"
   ]
  },
  {
   "cell_type": "code",
   "execution_count": null,
   "metadata": {},
   "outputs": [],
   "source": []
  },
  {
   "cell_type": "code",
   "execution_count": null,
   "metadata": {},
   "outputs": [],
   "source": []
  }
 ],
 "metadata": {
  "kernelspec": {
   "display_name": "Python 3 (ipykernel)",
   "language": "python",
   "name": "python3"
  },
  "language_info": {
   "codemirror_mode": {
    "name": "ipython",
    "version": 3
   },
   "file_extension": ".py",
   "mimetype": "text/x-python",
   "name": "python",
   "nbconvert_exporter": "python",
   "pygments_lexer": "ipython3",
   "version": "3.7.4"
  },
  "toc": {
   "base_numbering": 1,
   "nav_menu": {},
   "number_sections": true,
   "sideBar": false,
   "skip_h1_title": false,
   "title_cell": "Table of Contents",
   "title_sidebar": "Contents",
   "toc_cell": true,
   "toc_position": {},
   "toc_section_display": true,
   "toc_window_display": false
  }
 },
 "nbformat": 4,
 "nbformat_minor": 2
}
