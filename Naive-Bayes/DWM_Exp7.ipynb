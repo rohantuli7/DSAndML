{
 "cells": [
  {
   "cell_type": "markdown",
   "metadata": {
    "toc": true
   },
   "source": [
    "<h1>Table of Contents<span class=\"tocSkip\"></span></h1>\n",
    "<div class=\"toc\"><ul class=\"toc-item\"><li><span><a href=\"#Loading-libraries\" data-toc-modified-id=\"Loading-libraries-1\"><span class=\"toc-item-num\">1&nbsp;&nbsp;</span>Loading libraries</a></span></li><li><span><a href=\"#Reading-the-dataset\" data-toc-modified-id=\"Reading-the-dataset-2\"><span class=\"toc-item-num\">2&nbsp;&nbsp;</span>Reading the dataset</a></span></li><li><span><a href=\"#Creating-frequency-tables\" data-toc-modified-id=\"Creating-frequency-tables-3\"><span class=\"toc-item-num\">3&nbsp;&nbsp;</span>Creating frequency tables</a></span><ul class=\"toc-item\"><li><span><a href=\"#Outlook-frequency-table\" data-toc-modified-id=\"Outlook-frequency-table-3.1\"><span class=\"toc-item-num\">3.1&nbsp;&nbsp;</span>Outlook frequency table</a></span></li><li><span><a href=\"#Humidity-frequency-table\" data-toc-modified-id=\"Humidity-frequency-table-3.2\"><span class=\"toc-item-num\">3.2&nbsp;&nbsp;</span>Humidity frequency table</a></span></li><li><span><a href=\"#Wind-frequency-table\" data-toc-modified-id=\"Wind-frequency-table-3.3\"><span class=\"toc-item-num\">3.3&nbsp;&nbsp;</span>Wind frequency table</a></span></li></ul></li><li><span><a href=\"#Creating-likelihood-tables\" data-toc-modified-id=\"Creating-likelihood-tables-4\"><span class=\"toc-item-num\">4&nbsp;&nbsp;</span>Creating likelihood tables</a></span><ul class=\"toc-item\"><li><span><a href=\"#Outlook-likelihood-table\" data-toc-modified-id=\"Outlook-likelihood-table-4.1\"><span class=\"toc-item-num\">4.1&nbsp;&nbsp;</span>Outlook likelihood table</a></span></li><li><span><a href=\"#Humidity-likelihood-table\" data-toc-modified-id=\"Humidity-likelihood-table-4.2\"><span class=\"toc-item-num\">4.2&nbsp;&nbsp;</span>Humidity likelihood table</a></span></li><li><span><a href=\"#Wind-likelihood-table\" data-toc-modified-id=\"Wind-likelihood-table-4.3\"><span class=\"toc-item-num\">4.3&nbsp;&nbsp;</span>Wind likelihood table</a></span></li></ul></li><li><span><a href=\"#Creating-dictionaries-for-finding-probability\" data-toc-modified-id=\"Creating-dictionaries-for-finding-probability-5\"><span class=\"toc-item-num\">5&nbsp;&nbsp;</span>Creating dictionaries for finding probability</a></span></li><li><span><a href=\"#Question-1\" data-toc-modified-id=\"Question-1-6\"><span class=\"toc-item-num\">6&nbsp;&nbsp;</span>Question 1</a></span><ul class=\"toc-item\"><li><span><a href=\"#Day-1\" data-toc-modified-id=\"Day-1-6.1\"><span class=\"toc-item-num\">6.1&nbsp;&nbsp;</span>Day 1</a></span></li></ul></li><li><span><a href=\"#Day-2:\" data-toc-modified-id=\"Day-2:-7\"><span class=\"toc-item-num\">7&nbsp;&nbsp;</span>Day 2:</a></span></li></ul></div>"
   ]
  },
  {
   "cell_type": "markdown",
   "metadata": {},
   "source": [
    "# Loading libraries"
   ]
  },
  {
   "cell_type": "code",
   "execution_count": 1,
   "metadata": {},
   "outputs": [],
   "source": [
    "import pandas as pd\n",
    "import numpy as np\n",
    "import math\n",
    "from pandas import DataFrame"
   ]
  },
  {
   "cell_type": "markdown",
   "metadata": {},
   "source": [
    "# Reading the dataset"
   ]
  },
  {
   "cell_type": "code",
   "execution_count": 2,
   "metadata": {},
   "outputs": [
    {
     "data": {
      "text/html": [
       "<div>\n",
       "<style scoped>\n",
       "    .dataframe tbody tr th:only-of-type {\n",
       "        vertical-align: middle;\n",
       "    }\n",
       "\n",
       "    .dataframe tbody tr th {\n",
       "        vertical-align: top;\n",
       "    }\n",
       "\n",
       "    .dataframe thead th {\n",
       "        text-align: right;\n",
       "    }\n",
       "</style>\n",
       "<table border=\"1\" class=\"dataframe\">\n",
       "  <thead>\n",
       "    <tr style=\"text-align: right;\">\n",
       "      <th></th>\n",
       "      <th>Day</th>\n",
       "      <th>Outlook</th>\n",
       "      <th>Humidity</th>\n",
       "      <th>Wind</th>\n",
       "      <th>Play</th>\n",
       "    </tr>\n",
       "  </thead>\n",
       "  <tbody>\n",
       "    <tr>\n",
       "      <td>0</td>\n",
       "      <td>D1</td>\n",
       "      <td>Sunny</td>\n",
       "      <td>High</td>\n",
       "      <td>Weak</td>\n",
       "      <td>No</td>\n",
       "    </tr>\n",
       "    <tr>\n",
       "      <td>1</td>\n",
       "      <td>D2</td>\n",
       "      <td>Sunny</td>\n",
       "      <td>High</td>\n",
       "      <td>Strong</td>\n",
       "      <td>No</td>\n",
       "    </tr>\n",
       "    <tr>\n",
       "      <td>2</td>\n",
       "      <td>D3</td>\n",
       "      <td>Overcast</td>\n",
       "      <td>High</td>\n",
       "      <td>Weak</td>\n",
       "      <td>Yes</td>\n",
       "    </tr>\n",
       "    <tr>\n",
       "      <td>3</td>\n",
       "      <td>D4</td>\n",
       "      <td>Rain</td>\n",
       "      <td>High</td>\n",
       "      <td>Weak</td>\n",
       "      <td>Yes</td>\n",
       "    </tr>\n",
       "    <tr>\n",
       "      <td>4</td>\n",
       "      <td>D5</td>\n",
       "      <td>Rain</td>\n",
       "      <td>Normal</td>\n",
       "      <td>Weak</td>\n",
       "      <td>Yes</td>\n",
       "    </tr>\n",
       "    <tr>\n",
       "      <td>5</td>\n",
       "      <td>D6</td>\n",
       "      <td>Rain</td>\n",
       "      <td>Normal</td>\n",
       "      <td>Strong</td>\n",
       "      <td>No</td>\n",
       "    </tr>\n",
       "    <tr>\n",
       "      <td>6</td>\n",
       "      <td>D7</td>\n",
       "      <td>Overcast</td>\n",
       "      <td>Normal</td>\n",
       "      <td>Strong</td>\n",
       "      <td>Yes</td>\n",
       "    </tr>\n",
       "    <tr>\n",
       "      <td>7</td>\n",
       "      <td>D8</td>\n",
       "      <td>Sunny</td>\n",
       "      <td>High</td>\n",
       "      <td>Weak</td>\n",
       "      <td>No</td>\n",
       "    </tr>\n",
       "    <tr>\n",
       "      <td>8</td>\n",
       "      <td>D9</td>\n",
       "      <td>Sunny</td>\n",
       "      <td>Normal</td>\n",
       "      <td>Weak</td>\n",
       "      <td>Yes</td>\n",
       "    </tr>\n",
       "    <tr>\n",
       "      <td>9</td>\n",
       "      <td>D10</td>\n",
       "      <td>Rain</td>\n",
       "      <td>Normal</td>\n",
       "      <td>Weak</td>\n",
       "      <td>Yes</td>\n",
       "    </tr>\n",
       "    <tr>\n",
       "      <td>10</td>\n",
       "      <td>D11</td>\n",
       "      <td>Sunny</td>\n",
       "      <td>Normal</td>\n",
       "      <td>Strong</td>\n",
       "      <td>Yes</td>\n",
       "    </tr>\n",
       "    <tr>\n",
       "      <td>11</td>\n",
       "      <td>D12</td>\n",
       "      <td>Overcast</td>\n",
       "      <td>High</td>\n",
       "      <td>Strong</td>\n",
       "      <td>Yes</td>\n",
       "    </tr>\n",
       "    <tr>\n",
       "      <td>12</td>\n",
       "      <td>D13</td>\n",
       "      <td>Overcast</td>\n",
       "      <td>Normal</td>\n",
       "      <td>Weak</td>\n",
       "      <td>Yes</td>\n",
       "    </tr>\n",
       "    <tr>\n",
       "      <td>13</td>\n",
       "      <td>D14</td>\n",
       "      <td>Rain</td>\n",
       "      <td>High</td>\n",
       "      <td>Strong</td>\n",
       "      <td>No</td>\n",
       "    </tr>\n",
       "  </tbody>\n",
       "</table>\n",
       "</div>"
      ],
      "text/plain": [
       "    Day   Outlook Humidity    Wind Play\n",
       "0    D1     Sunny     High    Weak   No\n",
       "1    D2     Sunny     High  Strong   No\n",
       "2    D3  Overcast     High    Weak  Yes\n",
       "3    D4      Rain     High    Weak  Yes\n",
       "4    D5      Rain   Normal    Weak  Yes\n",
       "5    D6      Rain   Normal  Strong   No\n",
       "6    D7  Overcast   Normal  Strong  Yes\n",
       "7    D8     Sunny     High    Weak   No\n",
       "8    D9     Sunny   Normal    Weak  Yes\n",
       "9   D10      Rain   Normal    Weak  Yes\n",
       "10  D11     Sunny   Normal  Strong  Yes\n",
       "11  D12  Overcast     High  Strong  Yes\n",
       "12  D13  Overcast   Normal    Weak  Yes\n",
       "13  D14      Rain     High  Strong   No"
      ]
     },
     "execution_count": 2,
     "metadata": {},
     "output_type": "execute_result"
    }
   ],
   "source": [
    "df = pd.read_csv('weather.csv')\n",
    "df"
   ]
  },
  {
   "cell_type": "markdown",
   "metadata": {},
   "source": [
    "# Creating frequency tables"
   ]
  },
  {
   "cell_type": "code",
   "execution_count": 3,
   "metadata": {},
   "outputs": [
    {
     "name": "stdout",
     "output_type": "stream",
     "text": [
      "14\n",
      "[['Sunny', 'Overcast', 'Rain'], [], []]\n"
     ]
    }
   ],
   "source": [
    "length = len(df.index)\n",
    "l = ['Outlook','Humidity','Wind']\n",
    "l1 = df['Outlook'].unique().tolist()\n",
    "l2 = df['Humidity'].unique().tolist()\n",
    "l3 = df['Wind'].unique().tolist()\n",
    "l4 = df['Play'].unique().tolist()\n",
    "play_len = len(l4)\n",
    "outlook = [[] for i in range(play_len + 1)]\n",
    "outlook[0] = l1\n",
    "humidity = [[] for i in range(play_len + 1)]\n",
    "humidity[0] = l2\n",
    "wind = [[] for i in range(play_len + 1)]\n",
    "wind[0] = l3\n",
    "print(outlook)"
   ]
  },
  {
   "cell_type": "code",
   "execution_count": 4,
   "metadata": {},
   "outputs": [],
   "source": [
    "for k in l:\n",
    "    if k == 'Outlook':\n",
    "        for i in l1:\n",
    "            for j in l4:\n",
    "                df1 = df[df['Outlook'] == i]\n",
    "                df1 = df1[df1['Play'] == j]\n",
    "                temp = df1['Play'].value_counts().values.tolist()\n",
    "                if j == 'No':\n",
    "                    if (len(temp) == 0):\n",
    "                        outlook[1].append(0)\n",
    "                    else:\n",
    "                        outlook[1].append(temp[0])\n",
    "                else:\n",
    "                    if (len(temp) == 0):\n",
    "                        outlook[2].append(0)\n",
    "                    else:\n",
    "                        outlook[2].append(temp[0])\n",
    "    elif k == 'Humidity':\n",
    "        for i in l2:\n",
    "            for j in l4:\n",
    "                df1 = df[df['Humidity'] == i]\n",
    "                df1 = df1[df1['Play'] == j]\n",
    "                temp = df1['Play'].value_counts().values.tolist()\n",
    "                if j == 'No':\n",
    "                    if (len(temp) == 0):\n",
    "                        humidity[1].append(0)\n",
    "                    else:\n",
    "                        humidity[1].append(temp[0])\n",
    "                else:\n",
    "                    if (len(temp) == 0):\n",
    "                        humidity[2].append(0)\n",
    "                    else:\n",
    "                        humidity[2].append(temp[0])\n",
    "    elif k == 'Wind':\n",
    "        for i in l3:\n",
    "            for j in l4:\n",
    "                df1 = df[df['Wind'] == i]\n",
    "                df1 = df1[df1['Play'] == j]\n",
    "                temp = df1['Play'].value_counts().values.tolist()\n",
    "                if j == 'No':\n",
    "                    if (len(temp) == 0):\n",
    "                        wind[1].append(0)\n",
    "                    else:\n",
    "                        wind[1].append(temp[0])\n",
    "                else:\n",
    "                    if (len(temp) == 0):\n",
    "                        wind[2].append(0)\n",
    "                    else:\n",
    "                        wind[2].append(temp[0])"
   ]
  },
  {
   "cell_type": "markdown",
   "metadata": {},
   "source": [
    "## Outlook frequency table"
   ]
  },
  {
   "cell_type": "code",
   "execution_count": 5,
   "metadata": {},
   "outputs": [
    {
     "data": {
      "text/html": [
       "<div>\n",
       "<style scoped>\n",
       "    .dataframe tbody tr th:only-of-type {\n",
       "        vertical-align: middle;\n",
       "    }\n",
       "\n",
       "    .dataframe tbody tr th {\n",
       "        vertical-align: top;\n",
       "    }\n",
       "\n",
       "    .dataframe thead th {\n",
       "        text-align: right;\n",
       "    }\n",
       "</style>\n",
       "<table border=\"1\" class=\"dataframe\">\n",
       "  <thead>\n",
       "    <tr style=\"text-align: right;\">\n",
       "      <th></th>\n",
       "      <th>No</th>\n",
       "      <th>Yes</th>\n",
       "    </tr>\n",
       "    <tr>\n",
       "      <th>Outlook</th>\n",
       "      <th></th>\n",
       "      <th></th>\n",
       "    </tr>\n",
       "  </thead>\n",
       "  <tbody>\n",
       "    <tr>\n",
       "      <td>Sunny</td>\n",
       "      <td>3</td>\n",
       "      <td>2</td>\n",
       "    </tr>\n",
       "    <tr>\n",
       "      <td>Overcast</td>\n",
       "      <td>0</td>\n",
       "      <td>4</td>\n",
       "    </tr>\n",
       "    <tr>\n",
       "      <td>Rain</td>\n",
       "      <td>2</td>\n",
       "      <td>3</td>\n",
       "    </tr>\n",
       "  </tbody>\n",
       "</table>\n",
       "</div>"
      ],
      "text/plain": [
       "         No Yes\n",
       "Outlook        \n",
       "Sunny     3   2\n",
       "Overcast  0   4\n",
       "Rain      2   3"
      ]
     },
     "execution_count": 5,
     "metadata": {},
     "output_type": "execute_result"
    }
   ],
   "source": [
    "df_outlook = DataFrame(outlook).transpose()\n",
    "df_outlook.columns = ['Outlook','No','Yes']\n",
    "df1 = df_outlook\n",
    "df_outlook.set_index('Outlook',inplace = True)\n",
    "df_outlook"
   ]
  },
  {
   "cell_type": "markdown",
   "metadata": {},
   "source": [
    "## Humidity frequency table"
   ]
  },
  {
   "cell_type": "code",
   "execution_count": 6,
   "metadata": {},
   "outputs": [
    {
     "data": {
      "text/html": [
       "<div>\n",
       "<style scoped>\n",
       "    .dataframe tbody tr th:only-of-type {\n",
       "        vertical-align: middle;\n",
       "    }\n",
       "\n",
       "    .dataframe tbody tr th {\n",
       "        vertical-align: top;\n",
       "    }\n",
       "\n",
       "    .dataframe thead th {\n",
       "        text-align: right;\n",
       "    }\n",
       "</style>\n",
       "<table border=\"1\" class=\"dataframe\">\n",
       "  <thead>\n",
       "    <tr style=\"text-align: right;\">\n",
       "      <th></th>\n",
       "      <th>No</th>\n",
       "      <th>Yes</th>\n",
       "    </tr>\n",
       "    <tr>\n",
       "      <th>Humidity</th>\n",
       "      <th></th>\n",
       "      <th></th>\n",
       "    </tr>\n",
       "  </thead>\n",
       "  <tbody>\n",
       "    <tr>\n",
       "      <td>High</td>\n",
       "      <td>4</td>\n",
       "      <td>3</td>\n",
       "    </tr>\n",
       "    <tr>\n",
       "      <td>Normal</td>\n",
       "      <td>1</td>\n",
       "      <td>6</td>\n",
       "    </tr>\n",
       "  </tbody>\n",
       "</table>\n",
       "</div>"
      ],
      "text/plain": [
       "         No Yes\n",
       "Humidity       \n",
       "High      4   3\n",
       "Normal    1   6"
      ]
     },
     "execution_count": 6,
     "metadata": {},
     "output_type": "execute_result"
    }
   ],
   "source": [
    "df_humidity = DataFrame(humidity).transpose()\n",
    "df_humidity.columns = ['Humidity','No','Yes']\n",
    "df2 = df_humidity \n",
    "df_humidity.set_index('Humidity',inplace = True)\n",
    "df_humidity"
   ]
  },
  {
   "cell_type": "markdown",
   "metadata": {},
   "source": [
    "## Wind frequency table "
   ]
  },
  {
   "cell_type": "code",
   "execution_count": 7,
   "metadata": {},
   "outputs": [
    {
     "data": {
      "text/html": [
       "<div>\n",
       "<style scoped>\n",
       "    .dataframe tbody tr th:only-of-type {\n",
       "        vertical-align: middle;\n",
       "    }\n",
       "\n",
       "    .dataframe tbody tr th {\n",
       "        vertical-align: top;\n",
       "    }\n",
       "\n",
       "    .dataframe thead th {\n",
       "        text-align: right;\n",
       "    }\n",
       "</style>\n",
       "<table border=\"1\" class=\"dataframe\">\n",
       "  <thead>\n",
       "    <tr style=\"text-align: right;\">\n",
       "      <th></th>\n",
       "      <th>No</th>\n",
       "      <th>Yes</th>\n",
       "    </tr>\n",
       "    <tr>\n",
       "      <th>Wind</th>\n",
       "      <th></th>\n",
       "      <th></th>\n",
       "    </tr>\n",
       "  </thead>\n",
       "  <tbody>\n",
       "    <tr>\n",
       "      <td>Weak</td>\n",
       "      <td>2</td>\n",
       "      <td>6</td>\n",
       "    </tr>\n",
       "    <tr>\n",
       "      <td>Strong</td>\n",
       "      <td>3</td>\n",
       "      <td>3</td>\n",
       "    </tr>\n",
       "  </tbody>\n",
       "</table>\n",
       "</div>"
      ],
      "text/plain": [
       "       No Yes\n",
       "Wind         \n",
       "Weak    2   6\n",
       "Strong  3   3"
      ]
     },
     "execution_count": 7,
     "metadata": {},
     "output_type": "execute_result"
    }
   ],
   "source": [
    "df_wind = DataFrame(wind).transpose()\n",
    "df_wind.columns = ['Wind', 'No', 'Yes']\n",
    "df3 = df_wind\n",
    "df_wind.set_index('Wind',inplace = True)\n",
    "df_wind"
   ]
  },
  {
   "cell_type": "markdown",
   "metadata": {},
   "source": [
    "# Creating likelihood tables"
   ]
  },
  {
   "cell_type": "code",
   "execution_count": 8,
   "metadata": {},
   "outputs": [
    {
     "name": "stdout",
     "output_type": "stream",
     "text": [
      "[5.0, 9.0]\n"
     ]
    }
   ],
   "source": [
    "outlook_sum = df_outlook.sum(axis = 0).values.tolist()\n",
    "humidity_sum = df_humidity.sum(axis = 0).values.tolist()\n",
    "wind_sum = df_wind.sum(axis = 0).values.tolist()\n",
    "print(outlook_sum)\n",
    "\n",
    "outlook_row = df_outlook.sum(axis = 1).values.tolist()\n",
    "humidity_row = df_humidity.sum(axis = 1).values.tolist()\n",
    "wind_row = df_wind.sum(axis = 1).values.tolist()"
   ]
  },
  {
   "cell_type": "code",
   "execution_count": 9,
   "metadata": {},
   "outputs": [],
   "source": [
    "d1 = {}\n",
    "for i in l:\n",
    "    d1[i] = {}\n",
    "    if i == 'Outlook':\n",
    "        for j in l4:\n",
    "            temp = df_outlook[j]\n",
    "            temp = temp.sum(axis = 0)\n",
    "            temp = temp/length\n",
    "            d1[i][j] = temp\n",
    "    elif i == 'Humidity':\n",
    "        for j in l4:\n",
    "            temp = df_humidity[j]\n",
    "            temp = temp.sum(axis = 0)\n",
    "            temp = temp/length\n",
    "            d1[i][j] = temp\n",
    "    elif i == 'Wind':\n",
    "        for j in l4:\n",
    "            temp = df_wind[j]\n",
    "            temp = temp.sum(axis = 0)\n",
    "            temp = temp/length\n",
    "            d1[i][j] = temp"
   ]
  },
  {
   "cell_type": "code",
   "execution_count": 10,
   "metadata": {},
   "outputs": [
    {
     "name": "stdout",
     "output_type": "stream",
     "text": [
      "{'Outlook': {'No': 0.35714285714285715, 'Yes': 0.6428571428571429}, 'Humidity': {'No': 0.35714285714285715, 'Yes': 0.6428571428571429}, 'Wind': {'No': 0.35714285714285715, 'Yes': 0.6428571428571429}}\n"
     ]
    }
   ],
   "source": [
    "print(d1)"
   ]
  },
  {
   "cell_type": "code",
   "execution_count": 11,
   "metadata": {},
   "outputs": [],
   "source": [
    "df1 = df1.reset_index()\n",
    "df2 = df2.reset_index()\n",
    "df3 = df3.reset_index()"
   ]
  },
  {
   "cell_type": "code",
   "execution_count": 12,
   "metadata": {},
   "outputs": [],
   "source": [
    "for i in l:\n",
    "    if i == 'Outlook':\n",
    "        for i,j in zip(l4,outlook_sum):\n",
    "            df_outlook[i] = df_outlook[i]/j\n",
    "    elif i == 'Humidity':\n",
    "        for i,j in zip(l4,humidity_sum):\n",
    "            df_humidity[i] = df_humidity[i]/j\n",
    "    elif i == 'Wind':\n",
    "        for i,j in zip(l4,wind_sum):\n",
    "            df_wind[i] = df_wind[i]/j"
   ]
  },
  {
   "cell_type": "markdown",
   "metadata": {},
   "source": [
    "## Outlook likelihood table"
   ]
  },
  {
   "cell_type": "code",
   "execution_count": 13,
   "metadata": {},
   "outputs": [
    {
     "data": {
      "text/html": [
       "<div>\n",
       "<style scoped>\n",
       "    .dataframe tbody tr th:only-of-type {\n",
       "        vertical-align: middle;\n",
       "    }\n",
       "\n",
       "    .dataframe tbody tr th {\n",
       "        vertical-align: top;\n",
       "    }\n",
       "\n",
       "    .dataframe thead th {\n",
       "        text-align: right;\n",
       "    }\n",
       "</style>\n",
       "<table border=\"1\" class=\"dataframe\">\n",
       "  <thead>\n",
       "    <tr style=\"text-align: right;\">\n",
       "      <th></th>\n",
       "      <th>No</th>\n",
       "      <th>Yes</th>\n",
       "    </tr>\n",
       "    <tr>\n",
       "      <th>Outlook</th>\n",
       "      <th></th>\n",
       "      <th></th>\n",
       "    </tr>\n",
       "  </thead>\n",
       "  <tbody>\n",
       "    <tr>\n",
       "      <td>Sunny</td>\n",
       "      <td>0.6</td>\n",
       "      <td>0.222222</td>\n",
       "    </tr>\n",
       "    <tr>\n",
       "      <td>Overcast</td>\n",
       "      <td>0</td>\n",
       "      <td>0.444444</td>\n",
       "    </tr>\n",
       "    <tr>\n",
       "      <td>Rain</td>\n",
       "      <td>0.4</td>\n",
       "      <td>0.333333</td>\n",
       "    </tr>\n",
       "  </tbody>\n",
       "</table>\n",
       "</div>"
      ],
      "text/plain": [
       "           No       Yes\n",
       "Outlook                \n",
       "Sunny     0.6  0.222222\n",
       "Overcast    0  0.444444\n",
       "Rain      0.4  0.333333"
      ]
     },
     "execution_count": 13,
     "metadata": {},
     "output_type": "execute_result"
    }
   ],
   "source": [
    "df_outlook"
   ]
  },
  {
   "cell_type": "markdown",
   "metadata": {},
   "source": [
    "## Humidity likelihood table"
   ]
  },
  {
   "cell_type": "code",
   "execution_count": 14,
   "metadata": {},
   "outputs": [
    {
     "data": {
      "text/html": [
       "<div>\n",
       "<style scoped>\n",
       "    .dataframe tbody tr th:only-of-type {\n",
       "        vertical-align: middle;\n",
       "    }\n",
       "\n",
       "    .dataframe tbody tr th {\n",
       "        vertical-align: top;\n",
       "    }\n",
       "\n",
       "    .dataframe thead th {\n",
       "        text-align: right;\n",
       "    }\n",
       "</style>\n",
       "<table border=\"1\" class=\"dataframe\">\n",
       "  <thead>\n",
       "    <tr style=\"text-align: right;\">\n",
       "      <th></th>\n",
       "      <th>No</th>\n",
       "      <th>Yes</th>\n",
       "    </tr>\n",
       "    <tr>\n",
       "      <th>Humidity</th>\n",
       "      <th></th>\n",
       "      <th></th>\n",
       "    </tr>\n",
       "  </thead>\n",
       "  <tbody>\n",
       "    <tr>\n",
       "      <td>High</td>\n",
       "      <td>0.8</td>\n",
       "      <td>0.333333</td>\n",
       "    </tr>\n",
       "    <tr>\n",
       "      <td>Normal</td>\n",
       "      <td>0.2</td>\n",
       "      <td>0.666667</td>\n",
       "    </tr>\n",
       "  </tbody>\n",
       "</table>\n",
       "</div>"
      ],
      "text/plain": [
       "           No       Yes\n",
       "Humidity               \n",
       "High      0.8  0.333333\n",
       "Normal    0.2  0.666667"
      ]
     },
     "execution_count": 14,
     "metadata": {},
     "output_type": "execute_result"
    }
   ],
   "source": [
    "df_humidity"
   ]
  },
  {
   "cell_type": "markdown",
   "metadata": {},
   "source": [
    "## Wind likelihood table"
   ]
  },
  {
   "cell_type": "code",
   "execution_count": 15,
   "metadata": {
    "scrolled": true
   },
   "outputs": [
    {
     "data": {
      "text/html": [
       "<div>\n",
       "<style scoped>\n",
       "    .dataframe tbody tr th:only-of-type {\n",
       "        vertical-align: middle;\n",
       "    }\n",
       "\n",
       "    .dataframe tbody tr th {\n",
       "        vertical-align: top;\n",
       "    }\n",
       "\n",
       "    .dataframe thead th {\n",
       "        text-align: right;\n",
       "    }\n",
       "</style>\n",
       "<table border=\"1\" class=\"dataframe\">\n",
       "  <thead>\n",
       "    <tr style=\"text-align: right;\">\n",
       "      <th></th>\n",
       "      <th>No</th>\n",
       "      <th>Yes</th>\n",
       "    </tr>\n",
       "    <tr>\n",
       "      <th>Wind</th>\n",
       "      <th></th>\n",
       "      <th></th>\n",
       "    </tr>\n",
       "  </thead>\n",
       "  <tbody>\n",
       "    <tr>\n",
       "      <td>Weak</td>\n",
       "      <td>0.4</td>\n",
       "      <td>0.666667</td>\n",
       "    </tr>\n",
       "    <tr>\n",
       "      <td>Strong</td>\n",
       "      <td>0.6</td>\n",
       "      <td>0.333333</td>\n",
       "    </tr>\n",
       "  </tbody>\n",
       "</table>\n",
       "</div>"
      ],
      "text/plain": [
       "         No       Yes\n",
       "Wind                 \n",
       "Weak    0.4  0.666667\n",
       "Strong  0.6  0.333333"
      ]
     },
     "execution_count": 15,
     "metadata": {},
     "output_type": "execute_result"
    }
   ],
   "source": [
    "df_wind"
   ]
  },
  {
   "cell_type": "markdown",
   "metadata": {},
   "source": [
    "# Creating dictionaries for finding probability"
   ]
  },
  {
   "cell_type": "code",
   "execution_count": 16,
   "metadata": {},
   "outputs": [],
   "source": [
    "outlook = df_outlook.reset_index()\n",
    "humidity = df_humidity.reset_index()\n",
    "wind = df_wind.reset_index()"
   ]
  },
  {
   "cell_type": "code",
   "execution_count": 17,
   "metadata": {},
   "outputs": [],
   "source": [
    "d = {}\n",
    "for i in l:\n",
    "    d[i] = {}\n",
    "    if i == 'Outlook':\n",
    "        for j in l1:\n",
    "            d[i][j] = {}\n",
    "            for k in l4:\n",
    "                temp = outlook[outlook[i] == j]\n",
    "                temp = temp[k]\n",
    "                temp = temp.values.tolist()\n",
    "                d[i][j][k] = temp[0]\n",
    "    elif i == 'Humidity':\n",
    "        for j in l2:\n",
    "            d[i][j] = {}\n",
    "            for k in l4:\n",
    "                temp = humidity[humidity[i] == j]\n",
    "                temp = temp[k]\n",
    "                temp = temp.values.tolist()\n",
    "                d[i][j][k] = temp[0]\n",
    "    else:\n",
    "        for j in l3:\n",
    "            d[i][j] = {}\n",
    "            for k in l4:\n",
    "                temp = wind[wind[i] == j]\n",
    "                temp = temp[k]\n",
    "                temp = temp.values.tolist()\n",
    "                d[i][j][k] = temp[0]"
   ]
  },
  {
   "cell_type": "code",
   "execution_count": 18,
   "metadata": {},
   "outputs": [],
   "source": [
    "o = [x / length for x in outlook_row]\n",
    "h = [x / length for x in humidity_row]\n",
    "w = [x / length for x in wind_row]"
   ]
  },
  {
   "cell_type": "code",
   "execution_count": 19,
   "metadata": {},
   "outputs": [],
   "source": [
    "d2 = {}\n",
    "for i in l:\n",
    "    d2[i] = {}\n",
    "    if i == 'Outlook':\n",
    "        for j,k in zip(l1,o):\n",
    "            d2[i][j] = k\n",
    "    elif i == 'Humidity':\n",
    "        for j,k in zip(l2,h):\n",
    "            d2[i][j] = k\n",
    "    else:\n",
    "        for j,k in zip(l3,w):\n",
    "            d2[i][j] = k"
   ]
  },
  {
   "cell_type": "code",
   "execution_count": 20,
   "metadata": {},
   "outputs": [],
   "source": [
    "d4 = {}\n",
    "for i in l:\n",
    "    d4[i] = {}\n",
    "    if i == 'Outlook':\n",
    "        for j in l1:\n",
    "            d4[i][j] = {}\n",
    "            for k in l4:\n",
    "                temp = d[i][j][k]\n",
    "                temp1 = d1[i][k]\n",
    "                temp2 = d2[i][j]\n",
    "                d4[i][j][k] = (temp*temp1)/temp2\n",
    "    elif i == 'Humidity':\n",
    "        for j in l2:\n",
    "            d4[i][j] = {}\n",
    "            for k in l4:\n",
    "                temp = d[i][j][k]\n",
    "                temp1 = d1[i][k]\n",
    "                temp2 = d2[i][j]\n",
    "                d4[i][j][k] = (temp1*temp)/temp2\n",
    "    else:\n",
    "        for j in l3:\n",
    "            d4[i][j] = {}\n",
    "            for k in l4:\n",
    "                temp = d[i][j][k]\n",
    "                temp1 = d1[i][k]\n",
    "                temp2 = d2[i][j]\n",
    "                d4[i][j][k] = (temp1*temp)/temp2"
   ]
  },
  {
   "cell_type": "markdown",
   "metadata": {},
   "source": [
    "# Question 1"
   ]
  },
  {
   "cell_type": "markdown",
   "metadata": {},
   "source": [
    "## Day 1"
   ]
  },
  {
   "cell_type": "markdown",
   "metadata": {},
   "source": [
    "<ul>\n",
    "    <li>Outlook = Overcast </li>\n",
    "    <li>Humidity = Normal </li>\n",
    "    <li>Wind = Weak </li>\n",
    "    <li>Play = ?</li>\n",
    "</ul>"
   ]
  },
  {
   "cell_type": "code",
   "execution_count": 21,
   "metadata": {},
   "outputs": [
    {
     "name": "stdout",
     "output_type": "stream",
     "text": [
      "0.12698412698412698\n"
     ]
    }
   ],
   "source": [
    "t1 = d['Outlook']['Overcast']['Yes'] * d['Humidity']['Normal']['Yes'] * d['Wind']['Weak']['Yes'] * d1['Outlook']['Yes']\n",
    "print(t1)"
   ]
  },
  {
   "cell_type": "code",
   "execution_count": 22,
   "metadata": {},
   "outputs": [
    {
     "name": "stdout",
     "output_type": "stream",
     "text": [
      "0.0\n"
     ]
    }
   ],
   "source": [
    "t2 = d['Outlook']['Overcast']['No'] * d['Humidity']['Normal']['No'] * d['Wind']['Weak']['No'] * d1['Outlook']['No']\n",
    "print(t2)"
   ]
  },
  {
   "cell_type": "code",
   "execution_count": 23,
   "metadata": {},
   "outputs": [
    {
     "name": "stdout",
     "output_type": "stream",
     "text": [
      "Probablity of playing P(yes) :  1.0\n"
     ]
    }
   ],
   "source": [
    "yes = t1/(t1+t2)\n",
    "print('Probablity of playing P(yes) : ',yes)"
   ]
  },
  {
   "cell_type": "code",
   "execution_count": 24,
   "metadata": {},
   "outputs": [
    {
     "name": "stdout",
     "output_type": "stream",
     "text": [
      "Probability of not playing P(no) :  0.0\n"
     ]
    }
   ],
   "source": [
    "no = t2/(t1+t2)\n",
    "print('Probability of not playing P(no) : ',no)"
   ]
  },
  {
   "cell_type": "code",
   "execution_count": 25,
   "metadata": {},
   "outputs": [
    {
     "name": "stdout",
     "output_type": "stream",
     "text": [
      "For day 1:\n",
      "100.0 % chance of playing\n",
      "0.0 % chance of not playing\n"
     ]
    }
   ],
   "source": [
    "print('For day 1:')\n",
    "print(yes*100,'% chance of playing')\n",
    "print(no*100,'% chance of not playing')"
   ]
  },
  {
   "cell_type": "markdown",
   "metadata": {},
   "source": [
    "# Day 2:"
   ]
  },
  {
   "cell_type": "markdown",
   "metadata": {},
   "source": [
    "<ul>\n",
    "    <li>Outlook = Sunny </li>\n",
    "    <li>Humidity = Normal </li>\n",
    "    <li>Wind = Strong </li>\n",
    "    <li>Play = ?</li>\n",
    "</ul>"
   ]
  },
  {
   "cell_type": "code",
   "execution_count": 26,
   "metadata": {},
   "outputs": [
    {
     "name": "stdout",
     "output_type": "stream",
     "text": [
      "0.031746031746031744\n"
     ]
    }
   ],
   "source": [
    "t1 = d['Outlook']['Sunny']['Yes'] * d['Humidity']['Normal']['Yes'] * d['Wind']['Strong']['Yes'] * d1['Outlook']['Yes']\n",
    "print(t1)"
   ]
  },
  {
   "cell_type": "code",
   "execution_count": 27,
   "metadata": {},
   "outputs": [
    {
     "name": "stdout",
     "output_type": "stream",
     "text": [
      "0.025714285714285714\n"
     ]
    }
   ],
   "source": [
    "t2 = d['Outlook']['Sunny']['No'] * d['Humidity']['Normal']['No'] * d['Wind']['Strong']['No'] * d1['Outlook']['No']\n",
    "print(t2)"
   ]
  },
  {
   "cell_type": "code",
   "execution_count": 28,
   "metadata": {},
   "outputs": [
    {
     "name": "stdout",
     "output_type": "stream",
     "text": [
      "Probablity of playing P(yes) :  0.5524861878453038\n"
     ]
    }
   ],
   "source": [
    "yes = t1/(t1+t2)\n",
    "print('Probablity of playing P(yes) : ',yes)"
   ]
  },
  {
   "cell_type": "code",
   "execution_count": 29,
   "metadata": {},
   "outputs": [
    {
     "name": "stdout",
     "output_type": "stream",
     "text": [
      "Probability of not playing P(no) :  0.4475138121546961\n"
     ]
    }
   ],
   "source": [
    "no = t2/(t1+t2)\n",
    "print('Probability of not playing P(no) : ',no)"
   ]
  },
  {
   "cell_type": "code",
   "execution_count": 30,
   "metadata": {},
   "outputs": [
    {
     "name": "stdout",
     "output_type": "stream",
     "text": [
      "For day 1:\n",
      "55.24861878453038 % chance of playing\n",
      "44.75138121546961 % chance of not playing\n"
     ]
    }
   ],
   "source": [
    "print('For day 1:')\n",
    "print(yes*100,'% chance of playing')\n",
    "print(no*100,'% chance of not playing')"
   ]
  },
  {
   "cell_type": "code",
   "execution_count": null,
   "metadata": {},
   "outputs": [],
   "source": []
  }
 ],
 "metadata": {
  "kernelspec": {
   "display_name": "Python 3",
   "language": "python",
   "name": "python3"
  },
  "language_info": {
   "codemirror_mode": {
    "name": "ipython",
    "version": 3
   },
   "file_extension": ".py",
   "mimetype": "text/x-python",
   "name": "python",
   "nbconvert_exporter": "python",
   "pygments_lexer": "ipython3",
   "version": "3.7.4"
  },
  "toc": {
   "base_numbering": 1,
   "nav_menu": {},
   "number_sections": true,
   "sideBar": false,
   "skip_h1_title": false,
   "title_cell": "Table of Contents",
   "title_sidebar": "Contents",
   "toc_cell": true,
   "toc_position": {},
   "toc_section_display": true,
   "toc_window_display": false
  }
 },
 "nbformat": 4,
 "nbformat_minor": 2
}
