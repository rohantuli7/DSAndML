{
 "cells": [
  {
   "cell_type": "markdown",
   "metadata": {
    "toc": true
   },
   "source": [
    "<h1>Table of Contents<span class=\"tocSkip\"></span></h1>\n",
    "<div class=\"toc\"><ul class=\"toc-item\"></ul></div>"
   ]
  },
  {
   "cell_type": "code",
   "execution_count": 1,
   "metadata": {},
   "outputs": [],
   "source": [
    "import random\n",
    "import math\n",
    "import numpy as np"
   ]
  },
  {
   "cell_type": "code",
   "execution_count": 2,
   "metadata": {},
   "outputs": [
    {
     "name": "stdout",
     "output_type": "stream",
     "text": [
      "Number of elements :  9\n",
      "Enter the number of clusters (k) : 3\n",
      "Cluster centers :  [10, 11, 2]\n"
     ]
    }
   ],
   "source": [
    "l = [2,4,10,12,3,20,30,11,25]\n",
    "length = len(l)\n",
    "print('Number of elements : ',length)\n",
    "k = int(input('Enter the number of clusters (k) : '))\n",
    "clusters = random.sample(l, k)\n",
    "print('Cluster centers : ',clusters)"
   ]
  },
  {
   "cell_type": "code",
   "execution_count": 3,
   "metadata": {},
   "outputs": [],
   "source": [
    "def distance(a,b):\n",
    "    dist = pow(a-b,2)\n",
    "    dist = np.sqrt(dist)\n",
    "    return dist"
   ]
  },
  {
   "cell_type": "code",
   "execution_count": 4,
   "metadata": {},
   "outputs": [
    {
     "name": "stdout",
     "output_type": "stream",
     "text": [
      "Iteration number : 1\n",
      "Clusters :  [[10], [12, 20, 30, 11, 25], [2, 4, 3]]\n",
      "Clusters center :  [10, 11, 2]\n",
      "mean : [10.0, 19.6, 3.0] \n",
      " \n",
      "Iteration number : 2\n",
      "Clusters :  [[10, 12, 11], [20, 30, 25], [2, 4, 3]]\n",
      "Clusters center :  [10.0, 19.6, 3.0]\n",
      "mean : [11.0, 25.0, 3.0] \n",
      " \n",
      "Iteration number : 3\n",
      "Clusters :  [[10, 12, 11], [20, 30, 25], [2, 4, 3]]\n",
      "Clusters center :  [11.0, 25.0, 3.0]\n",
      "mean : [11.0, 25.0, 3.0] \n",
      " \n"
     ]
    }
   ],
   "source": [
    "s = 0\n",
    "counter = 0\n",
    "togu = []\n",
    "while True:\n",
    "    counter = counter + 1\n",
    "    print('Iteration number : {}'.format(counter))\n",
    "    togu = [[] for i in range(k)]\n",
    "    rt = []\n",
    "    minimum_val = 0\n",
    "    index_val = 0\n",
    "    for i in l:\n",
    "        tempval = []\n",
    "        for j in clusters:\n",
    "            temp = distance(i,j)\n",
    "            tempval.append(temp)\n",
    "\n",
    "        minimum_val = min(tempval)\n",
    "        index_val = tempval.index(minimum_val)\n",
    "        togu[index_val].append(i)\n",
    "    print('Clusters : ',togu)\n",
    "\n",
    "    for i in range(k):\n",
    "        s = 0\n",
    "        count = 0\n",
    "        for j in togu[i]:\n",
    "            count = count + 1\n",
    "            s = s + j\n",
    "        temp = s/count\n",
    "        rt.append(temp)\n",
    "    print('Clusters center : ',clusters)\n",
    "    print('mean : {} \\n '.format(rt))\n",
    "    if clusters == rt:\n",
    "        break\n",
    "    elif counter == 100:\n",
    "        break\n",
    "    else:\n",
    "        clusters = rt\n",
    "        togu.clear()"
   ]
  },
  {
   "cell_type": "code",
   "execution_count": 5,
   "metadata": {},
   "outputs": [
    {
     "name": "stdout",
     "output_type": "stream",
     "text": [
      "Number of clusters :  3\n",
      "Elements in cluster 1 = [10, 12, 11]\n",
      "Elements in cluster 2 = [20, 30, 25]\n",
      "Elements in cluster 3 = [2, 4, 3]\n"
     ]
    }
   ],
   "source": [
    "print('Number of clusters : ',k)\n",
    "for i in range(k):\n",
    "    store = []\n",
    "    for j in togu[i]:\n",
    "        store.append(j)\n",
    "    print('Elements in cluster {} = {}'.format(i+1,store))"
   ]
  },
  {
   "cell_type": "code",
   "execution_count": null,
   "metadata": {},
   "outputs": [],
   "source": []
  }
 ],
 "metadata": {
  "kernelspec": {
   "display_name": "Python 3 (ipykernel)",
   "language": "python",
   "name": "python3"
  },
  "language_info": {
   "codemirror_mode": {
    "name": "ipython",
    "version": 3
   },
   "file_extension": ".py",
   "mimetype": "text/x-python",
   "name": "python",
   "nbconvert_exporter": "python",
   "pygments_lexer": "ipython3",
   "version": "3.7.4"
  },
  "toc": {
   "base_numbering": 1,
   "nav_menu": {},
   "number_sections": true,
   "sideBar": false,
   "skip_h1_title": false,
   "title_cell": "Table of Contents",
   "title_sidebar": "Contents",
   "toc_cell": true,
   "toc_position": {},
   "toc_section_display": true,
   "toc_window_display": false
  }
 },
 "nbformat": 4,
 "nbformat_minor": 2
}
