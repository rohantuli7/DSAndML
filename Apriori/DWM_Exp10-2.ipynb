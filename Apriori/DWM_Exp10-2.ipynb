{
 "cells": [
  {
   "cell_type": "markdown",
   "metadata": {
    "toc": true
   },
   "source": [
    "<h1>Table of Contents<span class=\"tocSkip\"></span></h1>\n",
    "<div class=\"toc\"><ul class=\"toc-item\"><li><span><a href=\"#Importing-Libraries-and-declaring-global-variables\" data-toc-modified-id=\"Importing-Libraries-and-declaring-global-variables-1\"><span class=\"toc-item-num\">1&nbsp;&nbsp;</span>Importing Libraries and declaring global variables</a></span></li><li><span><a href=\"#Creating-dataset\" data-toc-modified-id=\"Creating-dataset-2\"><span class=\"toc-item-num\">2&nbsp;&nbsp;</span>Creating dataset</a></span></li><li><span><a href=\"#Calculating-relative-support-condition\" data-toc-modified-id=\"Calculating-relative-support-condition-3\"><span class=\"toc-item-num\">3&nbsp;&nbsp;</span>Calculating relative support condition</a></span></li><li><span><a href=\"#Defining-functions-for-pruning-and-joining\" data-toc-modified-id=\"Defining-functions-for-pruning-and-joining-4\"><span class=\"toc-item-num\">4&nbsp;&nbsp;</span>Defining functions for pruning and joining</a></span></li><li><span><a href=\"#Recursive-function-for-finding-candidates-and-minimum-support\" data-toc-modified-id=\"Recursive-function-for-finding-candidates-and-minimum-support-5\"><span class=\"toc-item-num\">5&nbsp;&nbsp;</span>Recursive function for finding candidates and minimum support</a></span></li><li><span><a href=\"#Calculating-confidence\" data-toc-modified-id=\"Calculating-confidence-6\"><span class=\"toc-item-num\">6&nbsp;&nbsp;</span>Calculating confidence</a></span></li><li><span><a href=\"#Association-rules-generated\" data-toc-modified-id=\"Association-rules-generated-7\"><span class=\"toc-item-num\">7&nbsp;&nbsp;</span>Association rules generated</a></span></li><li><span><a href=\"#Strong-rules\" data-toc-modified-id=\"Strong-rules-8\"><span class=\"toc-item-num\">8&nbsp;&nbsp;</span>Strong rules</a></span></li><li><span><a href=\"#Weak-rules\" data-toc-modified-id=\"Weak-rules-9\"><span class=\"toc-item-num\">9&nbsp;&nbsp;</span>Weak rules</a></span></li></ul></div>"
   ]
  },
  {
   "cell_type": "markdown",
   "metadata": {},
   "source": [
    "# Importing Libraries and declaring global variables"
   ]
  },
  {
   "cell_type": "code",
   "execution_count": 1,
   "metadata": {},
   "outputs": [],
   "source": [
    "import pandas as pd\n",
    "import numpy as np\n",
    "from itertools import combinations\n",
    "import copy"
   ]
  },
  {
   "cell_type": "code",
   "execution_count": 2,
   "metadata": {},
   "outputs": [],
   "source": [
    "pd.options.mode.chained_assignment = None\n",
    "global support_condition\n",
    "global sup_count\n",
    "global save_df "
   ]
  },
  {
   "cell_type": "markdown",
   "metadata": {},
   "source": [
    "# Creating dataset"
   ]
  },
  {
   "cell_type": "code",
   "execution_count": 3,
   "metadata": {},
   "outputs": [],
   "source": [
    "data = {'TID': ['T100','T200','T300','T400','T500','T600','T700','T800','T900'],\n",
    "        'I1' : [1, 0, 0, 1, 1, 0, 1, 1, 1],\n",
    "        'I2' : [1, 1, 1, 1, 0, 1, 0, 1, 1],\n",
    "        'I3' : [0, 0, 1, 0, 1, 1, 1, 1, 1],\n",
    "        'I4' : [0, 1, 0, 1, 0, 0, 0, 0, 0],\n",
    "        'I5' : [1, 0, 0, 0, 0, 0, 0, 1, 0]\n",
    "       }\n",
    "df = pd.DataFrame(data, columns = ['TID', 'I1', 'I2', 'I3', 'I4', 'I5'])\n",
    "columns = ['I1', 'I2', 'I3', 'I4', 'I5']\n",
    "df.set_index('TID', inplace = True)\n",
    "count = 1\n",
    "save_df = []\n",
    "c1 = 3"
   ]
  },
  {
   "cell_type": "code",
   "execution_count": 4,
   "metadata": {},
   "outputs": [
    {
     "data": {
      "text/html": [
       "<div>\n",
       "<style scoped>\n",
       "    .dataframe tbody tr th:only-of-type {\n",
       "        vertical-align: middle;\n",
       "    }\n",
       "\n",
       "    .dataframe tbody tr th {\n",
       "        vertical-align: top;\n",
       "    }\n",
       "\n",
       "    .dataframe thead th {\n",
       "        text-align: right;\n",
       "    }\n",
       "</style>\n",
       "<table border=\"1\" class=\"dataframe\">\n",
       "  <thead>\n",
       "    <tr style=\"text-align: right;\">\n",
       "      <th></th>\n",
       "      <th>I1</th>\n",
       "      <th>I2</th>\n",
       "      <th>I3</th>\n",
       "      <th>I4</th>\n",
       "      <th>I5</th>\n",
       "    </tr>\n",
       "    <tr>\n",
       "      <th>TID</th>\n",
       "      <th></th>\n",
       "      <th></th>\n",
       "      <th></th>\n",
       "      <th></th>\n",
       "      <th></th>\n",
       "    </tr>\n",
       "  </thead>\n",
       "  <tbody>\n",
       "    <tr>\n",
       "      <td>T100</td>\n",
       "      <td>1</td>\n",
       "      <td>1</td>\n",
       "      <td>0</td>\n",
       "      <td>0</td>\n",
       "      <td>1</td>\n",
       "    </tr>\n",
       "    <tr>\n",
       "      <td>T200</td>\n",
       "      <td>0</td>\n",
       "      <td>1</td>\n",
       "      <td>0</td>\n",
       "      <td>1</td>\n",
       "      <td>0</td>\n",
       "    </tr>\n",
       "    <tr>\n",
       "      <td>T300</td>\n",
       "      <td>0</td>\n",
       "      <td>1</td>\n",
       "      <td>1</td>\n",
       "      <td>0</td>\n",
       "      <td>0</td>\n",
       "    </tr>\n",
       "    <tr>\n",
       "      <td>T400</td>\n",
       "      <td>1</td>\n",
       "      <td>1</td>\n",
       "      <td>0</td>\n",
       "      <td>1</td>\n",
       "      <td>0</td>\n",
       "    </tr>\n",
       "    <tr>\n",
       "      <td>T500</td>\n",
       "      <td>1</td>\n",
       "      <td>0</td>\n",
       "      <td>1</td>\n",
       "      <td>0</td>\n",
       "      <td>0</td>\n",
       "    </tr>\n",
       "    <tr>\n",
       "      <td>T600</td>\n",
       "      <td>0</td>\n",
       "      <td>1</td>\n",
       "      <td>1</td>\n",
       "      <td>0</td>\n",
       "      <td>0</td>\n",
       "    </tr>\n",
       "    <tr>\n",
       "      <td>T700</td>\n",
       "      <td>1</td>\n",
       "      <td>0</td>\n",
       "      <td>1</td>\n",
       "      <td>0</td>\n",
       "      <td>0</td>\n",
       "    </tr>\n",
       "    <tr>\n",
       "      <td>T800</td>\n",
       "      <td>1</td>\n",
       "      <td>1</td>\n",
       "      <td>1</td>\n",
       "      <td>0</td>\n",
       "      <td>1</td>\n",
       "    </tr>\n",
       "    <tr>\n",
       "      <td>T900</td>\n",
       "      <td>1</td>\n",
       "      <td>1</td>\n",
       "      <td>1</td>\n",
       "      <td>0</td>\n",
       "      <td>0</td>\n",
       "    </tr>\n",
       "  </tbody>\n",
       "</table>\n",
       "</div>"
      ],
      "text/plain": [
       "      I1  I2  I3  I4  I5\n",
       "TID                     \n",
       "T100   1   1   0   0   1\n",
       "T200   0   1   0   1   0\n",
       "T300   0   1   1   0   0\n",
       "T400   1   1   0   1   0\n",
       "T500   1   0   1   0   0\n",
       "T600   0   1   1   0   0\n",
       "T700   1   0   1   0   0\n",
       "T800   1   1   1   0   1\n",
       "T900   1   1   1   0   0"
      ]
     },
     "metadata": {},
     "output_type": "display_data"
    }
   ],
   "source": [
    "display(df)"
   ]
  },
  {
   "cell_type": "markdown",
   "metadata": {},
   "source": [
    "# Calculating relative support condition"
   ]
  },
  {
   "cell_type": "code",
   "execution_count": 5,
   "metadata": {},
   "outputs": [
    {
     "name": "stdout",
     "output_type": "stream",
     "text": [
      "Relative support :  0.22\n"
     ]
    }
   ],
   "source": [
    "support_condition = 2\n",
    "rows = df.shape[0]\n",
    "relative_support = support_condition/rows\n",
    "print('Relative support : ',round(relative_support,2))\n",
    "df1 = {}"
   ]
  },
  {
   "cell_type": "markdown",
   "metadata": {},
   "source": [
    "# Defining functions for pruning and joining"
   ]
  },
  {
   "cell_type": "code",
   "execution_count": 6,
   "metadata": {},
   "outputs": [],
   "source": [
    "def calc_support_count(itemset, count):\n",
    "    if count == 1:\n",
    "        sup_count = []\n",
    "        for i in itemset:\n",
    "            temp = df[i]\n",
    "            temp = temp.sum(axis = 0)\n",
    "            sup_count.append(temp)\n",
    "            count = count + 1\n",
    "        return sup_count\n",
    "    else:\n",
    "        ind = df.index.values.tolist()\n",
    "        l = len(itemset[0])\n",
    "        #print(l)\n",
    "        val = []\n",
    "        #print(l)\n",
    "        for i in itemset:\n",
    "            s2 = 0\n",
    "            for j in ind:\n",
    "                s1 = 0\n",
    "                for k in i:\n",
    "                    #print(i,j,k)\n",
    "                    #print(' {} {} : {}'.format(j, k, df.loc[j,k]))\n",
    "                    s1 = s1 + df.loc[j,k]\n",
    "                #print(s1)\n",
    "                if s1 == l:\n",
    "                    s2 = s2 + 1\n",
    "                    #print('Yes')\n",
    "                else:\n",
    "                    #print('No')\n",
    "                    pass\n",
    "            val.append(s2)\n",
    "            count = count + 1\n",
    "        return val"
   ]
  },
  {
   "cell_type": "code",
   "execution_count": 7,
   "metadata": {},
   "outputs": [],
   "source": [
    "def min_support(rt, val):\n",
    "    temp = []\n",
    "    for i in rt:\n",
    "        s = ''\n",
    "        for j in i:\n",
    "            #print(j)\n",
    "            s = s + j\n",
    "        temp.append(s)\n",
    "    d = { k:v for (k,v) in zip(temp, val)}\n",
    "    new_df = pd.DataFrame(list(zip(temp, val)), columns =['Itemset', 'Values'])\n",
    "    sup_df = new_df[new_df['Values'] >= 2]\n",
    "    return new_df, sup_df"
   ]
  },
  {
   "cell_type": "markdown",
   "metadata": {},
   "source": [
    "# Recursive function for finding candidates and minimum support"
   ]
  },
  {
   "cell_type": "code",
   "execution_count": 8,
   "metadata": {},
   "outputs": [],
   "source": [
    "def func(columns):\n",
    "    global count\n",
    "    global df1\n",
    "    #display(df1)\n",
    "    val = calc_support_count(columns, count)\n",
    "    new_df, sup_df = min_support(columns, val)\n",
    "    save_df.append(sup_df)\n",
    "    count = count + 1\n",
    "    if new_df.empty or sup_df.empty:\n",
    "        return df1\n",
    "    else:\n",
    "        print('Candidates (C{}) : '.format(count-1))\n",
    "        new_df.set_index('Itemset', inplace = True)\n",
    "        display(new_df)\n",
    "        new_df.reset_index(inplace = True)\n",
    "        print('\\n Candidates greater than minimum support count (L{}): '.format(count-1))\n",
    "        sup_df.set_index('Itemset', inplace = True)\n",
    "        display(sup_df)\n",
    "        sup_df.reset_index(inplace = True)\n",
    "        #print(count)\n",
    "        if count > 1:\n",
    "            new_items = df.columns.values.tolist()\n",
    "            new_items = list(combinations(new_items, count))\n",
    "        else:\n",
    "            pass\n",
    "        func(new_items)"
   ]
  },
  {
   "cell_type": "code",
   "execution_count": 9,
   "metadata": {},
   "outputs": [
    {
     "name": "stdout",
     "output_type": "stream",
     "text": [
      "Candidates (C1) : \n"
     ]
    },
    {
     "data": {
      "text/html": [
       "<div>\n",
       "<style scoped>\n",
       "    .dataframe tbody tr th:only-of-type {\n",
       "        vertical-align: middle;\n",
       "    }\n",
       "\n",
       "    .dataframe tbody tr th {\n",
       "        vertical-align: top;\n",
       "    }\n",
       "\n",
       "    .dataframe thead th {\n",
       "        text-align: right;\n",
       "    }\n",
       "</style>\n",
       "<table border=\"1\" class=\"dataframe\">\n",
       "  <thead>\n",
       "    <tr style=\"text-align: right;\">\n",
       "      <th></th>\n",
       "      <th>Values</th>\n",
       "    </tr>\n",
       "    <tr>\n",
       "      <th>Itemset</th>\n",
       "      <th></th>\n",
       "    </tr>\n",
       "  </thead>\n",
       "  <tbody>\n",
       "    <tr>\n",
       "      <td>I1</td>\n",
       "      <td>6</td>\n",
       "    </tr>\n",
       "    <tr>\n",
       "      <td>I2</td>\n",
       "      <td>7</td>\n",
       "    </tr>\n",
       "    <tr>\n",
       "      <td>I3</td>\n",
       "      <td>6</td>\n",
       "    </tr>\n",
       "    <tr>\n",
       "      <td>I4</td>\n",
       "      <td>2</td>\n",
       "    </tr>\n",
       "    <tr>\n",
       "      <td>I5</td>\n",
       "      <td>2</td>\n",
       "    </tr>\n",
       "  </tbody>\n",
       "</table>\n",
       "</div>"
      ],
      "text/plain": [
       "         Values\n",
       "Itemset        \n",
       "I1            6\n",
       "I2            7\n",
       "I3            6\n",
       "I4            2\n",
       "I5            2"
      ]
     },
     "metadata": {},
     "output_type": "display_data"
    },
    {
     "name": "stdout",
     "output_type": "stream",
     "text": [
      "\n",
      " Candidates greater than minimum support count (L1): \n"
     ]
    },
    {
     "data": {
      "text/html": [
       "<div>\n",
       "<style scoped>\n",
       "    .dataframe tbody tr th:only-of-type {\n",
       "        vertical-align: middle;\n",
       "    }\n",
       "\n",
       "    .dataframe tbody tr th {\n",
       "        vertical-align: top;\n",
       "    }\n",
       "\n",
       "    .dataframe thead th {\n",
       "        text-align: right;\n",
       "    }\n",
       "</style>\n",
       "<table border=\"1\" class=\"dataframe\">\n",
       "  <thead>\n",
       "    <tr style=\"text-align: right;\">\n",
       "      <th></th>\n",
       "      <th>Values</th>\n",
       "    </tr>\n",
       "    <tr>\n",
       "      <th>Itemset</th>\n",
       "      <th></th>\n",
       "    </tr>\n",
       "  </thead>\n",
       "  <tbody>\n",
       "    <tr>\n",
       "      <td>I1</td>\n",
       "      <td>6</td>\n",
       "    </tr>\n",
       "    <tr>\n",
       "      <td>I2</td>\n",
       "      <td>7</td>\n",
       "    </tr>\n",
       "    <tr>\n",
       "      <td>I3</td>\n",
       "      <td>6</td>\n",
       "    </tr>\n",
       "    <tr>\n",
       "      <td>I4</td>\n",
       "      <td>2</td>\n",
       "    </tr>\n",
       "    <tr>\n",
       "      <td>I5</td>\n",
       "      <td>2</td>\n",
       "    </tr>\n",
       "  </tbody>\n",
       "</table>\n",
       "</div>"
      ],
      "text/plain": [
       "         Values\n",
       "Itemset        \n",
       "I1            6\n",
       "I2            7\n",
       "I3            6\n",
       "I4            2\n",
       "I5            2"
      ]
     },
     "metadata": {},
     "output_type": "display_data"
    },
    {
     "name": "stdout",
     "output_type": "stream",
     "text": [
      "Candidates (C2) : \n"
     ]
    },
    {
     "data": {
      "text/html": [
       "<div>\n",
       "<style scoped>\n",
       "    .dataframe tbody tr th:only-of-type {\n",
       "        vertical-align: middle;\n",
       "    }\n",
       "\n",
       "    .dataframe tbody tr th {\n",
       "        vertical-align: top;\n",
       "    }\n",
       "\n",
       "    .dataframe thead th {\n",
       "        text-align: right;\n",
       "    }\n",
       "</style>\n",
       "<table border=\"1\" class=\"dataframe\">\n",
       "  <thead>\n",
       "    <tr style=\"text-align: right;\">\n",
       "      <th></th>\n",
       "      <th>Values</th>\n",
       "    </tr>\n",
       "    <tr>\n",
       "      <th>Itemset</th>\n",
       "      <th></th>\n",
       "    </tr>\n",
       "  </thead>\n",
       "  <tbody>\n",
       "    <tr>\n",
       "      <td>I1I2</td>\n",
       "      <td>4</td>\n",
       "    </tr>\n",
       "    <tr>\n",
       "      <td>I1I3</td>\n",
       "      <td>4</td>\n",
       "    </tr>\n",
       "    <tr>\n",
       "      <td>I1I4</td>\n",
       "      <td>1</td>\n",
       "    </tr>\n",
       "    <tr>\n",
       "      <td>I1I5</td>\n",
       "      <td>2</td>\n",
       "    </tr>\n",
       "    <tr>\n",
       "      <td>I2I3</td>\n",
       "      <td>4</td>\n",
       "    </tr>\n",
       "    <tr>\n",
       "      <td>I2I4</td>\n",
       "      <td>2</td>\n",
       "    </tr>\n",
       "    <tr>\n",
       "      <td>I2I5</td>\n",
       "      <td>2</td>\n",
       "    </tr>\n",
       "    <tr>\n",
       "      <td>I3I4</td>\n",
       "      <td>0</td>\n",
       "    </tr>\n",
       "    <tr>\n",
       "      <td>I3I5</td>\n",
       "      <td>1</td>\n",
       "    </tr>\n",
       "    <tr>\n",
       "      <td>I4I5</td>\n",
       "      <td>0</td>\n",
       "    </tr>\n",
       "  </tbody>\n",
       "</table>\n",
       "</div>"
      ],
      "text/plain": [
       "         Values\n",
       "Itemset        \n",
       "I1I2          4\n",
       "I1I3          4\n",
       "I1I4          1\n",
       "I1I5          2\n",
       "I2I3          4\n",
       "I2I4          2\n",
       "I2I5          2\n",
       "I3I4          0\n",
       "I3I5          1\n",
       "I4I5          0"
      ]
     },
     "metadata": {},
     "output_type": "display_data"
    },
    {
     "name": "stdout",
     "output_type": "stream",
     "text": [
      "\n",
      " Candidates greater than minimum support count (L2): \n"
     ]
    },
    {
     "data": {
      "text/html": [
       "<div>\n",
       "<style scoped>\n",
       "    .dataframe tbody tr th:only-of-type {\n",
       "        vertical-align: middle;\n",
       "    }\n",
       "\n",
       "    .dataframe tbody tr th {\n",
       "        vertical-align: top;\n",
       "    }\n",
       "\n",
       "    .dataframe thead th {\n",
       "        text-align: right;\n",
       "    }\n",
       "</style>\n",
       "<table border=\"1\" class=\"dataframe\">\n",
       "  <thead>\n",
       "    <tr style=\"text-align: right;\">\n",
       "      <th></th>\n",
       "      <th>Values</th>\n",
       "    </tr>\n",
       "    <tr>\n",
       "      <th>Itemset</th>\n",
       "      <th></th>\n",
       "    </tr>\n",
       "  </thead>\n",
       "  <tbody>\n",
       "    <tr>\n",
       "      <td>I1I2</td>\n",
       "      <td>4</td>\n",
       "    </tr>\n",
       "    <tr>\n",
       "      <td>I1I3</td>\n",
       "      <td>4</td>\n",
       "    </tr>\n",
       "    <tr>\n",
       "      <td>I1I5</td>\n",
       "      <td>2</td>\n",
       "    </tr>\n",
       "    <tr>\n",
       "      <td>I2I3</td>\n",
       "      <td>4</td>\n",
       "    </tr>\n",
       "    <tr>\n",
       "      <td>I2I4</td>\n",
       "      <td>2</td>\n",
       "    </tr>\n",
       "    <tr>\n",
       "      <td>I2I5</td>\n",
       "      <td>2</td>\n",
       "    </tr>\n",
       "  </tbody>\n",
       "</table>\n",
       "</div>"
      ],
      "text/plain": [
       "         Values\n",
       "Itemset        \n",
       "I1I2          4\n",
       "I1I3          4\n",
       "I1I5          2\n",
       "I2I3          4\n",
       "I2I4          2\n",
       "I2I5          2"
      ]
     },
     "metadata": {},
     "output_type": "display_data"
    },
    {
     "name": "stdout",
     "output_type": "stream",
     "text": [
      "Candidates (C3) : \n"
     ]
    },
    {
     "data": {
      "text/html": [
       "<div>\n",
       "<style scoped>\n",
       "    .dataframe tbody tr th:only-of-type {\n",
       "        vertical-align: middle;\n",
       "    }\n",
       "\n",
       "    .dataframe tbody tr th {\n",
       "        vertical-align: top;\n",
       "    }\n",
       "\n",
       "    .dataframe thead th {\n",
       "        text-align: right;\n",
       "    }\n",
       "</style>\n",
       "<table border=\"1\" class=\"dataframe\">\n",
       "  <thead>\n",
       "    <tr style=\"text-align: right;\">\n",
       "      <th></th>\n",
       "      <th>Values</th>\n",
       "    </tr>\n",
       "    <tr>\n",
       "      <th>Itemset</th>\n",
       "      <th></th>\n",
       "    </tr>\n",
       "  </thead>\n",
       "  <tbody>\n",
       "    <tr>\n",
       "      <td>I1I2I3</td>\n",
       "      <td>2</td>\n",
       "    </tr>\n",
       "    <tr>\n",
       "      <td>I1I2I4</td>\n",
       "      <td>1</td>\n",
       "    </tr>\n",
       "    <tr>\n",
       "      <td>I1I2I5</td>\n",
       "      <td>2</td>\n",
       "    </tr>\n",
       "    <tr>\n",
       "      <td>I1I3I4</td>\n",
       "      <td>0</td>\n",
       "    </tr>\n",
       "    <tr>\n",
       "      <td>I1I3I5</td>\n",
       "      <td>1</td>\n",
       "    </tr>\n",
       "    <tr>\n",
       "      <td>I1I4I5</td>\n",
       "      <td>0</td>\n",
       "    </tr>\n",
       "    <tr>\n",
       "      <td>I2I3I4</td>\n",
       "      <td>0</td>\n",
       "    </tr>\n",
       "    <tr>\n",
       "      <td>I2I3I5</td>\n",
       "      <td>1</td>\n",
       "    </tr>\n",
       "    <tr>\n",
       "      <td>I2I4I5</td>\n",
       "      <td>0</td>\n",
       "    </tr>\n",
       "    <tr>\n",
       "      <td>I3I4I5</td>\n",
       "      <td>0</td>\n",
       "    </tr>\n",
       "  </tbody>\n",
       "</table>\n",
       "</div>"
      ],
      "text/plain": [
       "         Values\n",
       "Itemset        \n",
       "I1I2I3        2\n",
       "I1I2I4        1\n",
       "I1I2I5        2\n",
       "I1I3I4        0\n",
       "I1I3I5        1\n",
       "I1I4I5        0\n",
       "I2I3I4        0\n",
       "I2I3I5        1\n",
       "I2I4I5        0\n",
       "I3I4I5        0"
      ]
     },
     "metadata": {},
     "output_type": "display_data"
    },
    {
     "name": "stdout",
     "output_type": "stream",
     "text": [
      "\n",
      " Candidates greater than minimum support count (L3): \n"
     ]
    },
    {
     "data": {
      "text/html": [
       "<div>\n",
       "<style scoped>\n",
       "    .dataframe tbody tr th:only-of-type {\n",
       "        vertical-align: middle;\n",
       "    }\n",
       "\n",
       "    .dataframe tbody tr th {\n",
       "        vertical-align: top;\n",
       "    }\n",
       "\n",
       "    .dataframe thead th {\n",
       "        text-align: right;\n",
       "    }\n",
       "</style>\n",
       "<table border=\"1\" class=\"dataframe\">\n",
       "  <thead>\n",
       "    <tr style=\"text-align: right;\">\n",
       "      <th></th>\n",
       "      <th>Values</th>\n",
       "    </tr>\n",
       "    <tr>\n",
       "      <th>Itemset</th>\n",
       "      <th></th>\n",
       "    </tr>\n",
       "  </thead>\n",
       "  <tbody>\n",
       "    <tr>\n",
       "      <td>I1I2I3</td>\n",
       "      <td>2</td>\n",
       "    </tr>\n",
       "    <tr>\n",
       "      <td>I1I2I5</td>\n",
       "      <td>2</td>\n",
       "    </tr>\n",
       "  </tbody>\n",
       "</table>\n",
       "</div>"
      ],
      "text/plain": [
       "         Values\n",
       "Itemset        \n",
       "I1I2I3        2\n",
       "I1I2I5        2"
      ]
     },
     "metadata": {},
     "output_type": "display_data"
    }
   ],
   "source": [
    "sup_df = func(columns)"
   ]
  },
  {
   "cell_type": "markdown",
   "metadata": {},
   "source": [
    "# Calculating confidence"
   ]
  },
  {
   "cell_type": "code",
   "execution_count": 10,
   "metadata": {},
   "outputs": [],
   "source": [
    "final_df = save_df[len(save_df) - 2]\n",
    "items = final_df['Itemset'].values.tolist()\n",
    "l = len(items[0])\n",
    "l = int(l/c1)\n",
    "unique_values = [[] for i in range(l)]\n",
    "s = ''\n",
    "c = -1\n",
    "for i in items:\n",
    "    c = c + 1\n",
    "    for j in range(0, len(i), 2):\n",
    "        s = i[j] + i[j+1]\n",
    "        unique_values[c].append(s)"
   ]
  },
  {
   "cell_type": "code",
   "execution_count": 11,
   "metadata": {},
   "outputs": [
    {
     "name": "stdout",
     "output_type": "stream",
     "text": [
      "[('I1', 'I2'), ('I1', 'I3'), ('I2', 'I3')]\n"
     ]
    }
   ],
   "source": [
    "l1 = []\n",
    "combi = list(combinations(unique_values[0], 2))\n",
    "print(combi)\n",
    "for i in combi:\n",
    "    s = ''\n",
    "    for j in i:\n",
    "        s = s + str(j)\n",
    "    l1.append(s)\n",
    "    \n",
    "l2 = []\n",
    "combi = list(combinations(unique_values[1], 2))\n",
    "for i in combi:\n",
    "    s = ''\n",
    "    for j in i:\n",
    "        s = s + str(j)\n",
    "    l2.append(s)"
   ]
  },
  {
   "cell_type": "code",
   "execution_count": 12,
   "metadata": {},
   "outputs": [],
   "source": [
    "d_df = {}\n",
    "c = 0\n",
    "for i in save_df:\n",
    "    c = c = c + 1\n",
    "    d_df[c] = i"
   ]
  },
  {
   "cell_type": "code",
   "execution_count": 13,
   "metadata": {},
   "outputs": [],
   "source": [
    "df1 = save_df[0]\n",
    "cols_1 = df1['Itemset'].values.tolist()\n",
    "df1.set_index('Itemset', inplace = True)\n",
    "df2 = save_df[1]\n",
    "cols_2 = df2['Itemset'].values.tolist()\n",
    "df2.set_index('Itemset', inplace = True)"
   ]
  },
  {
   "cell_type": "code",
   "execution_count": 14,
   "metadata": {},
   "outputs": [],
   "source": [
    "c1 = {}\n",
    "c2 = {}\n",
    "final_df.set_index('Itemset', inplace = True)\n",
    "for i in l1:\n",
    "    c1[i] = (final_df.loc['I1I2I3', 'Values']/ df2.loc[i, 'Values'])*100\n",
    "for i in unique_values[0]:\n",
    "    c1[i] = (final_df.loc['I1I2I3', 'Values']/ df1.loc[i, 'Values'])*100\n",
    "for i in l2:\n",
    "    c2[i] = (final_df.loc['I1I2I3', 'Values']/ df2.loc[i, 'Values'])*100\n",
    "for i in unique_values[1]:\n",
    "    c2[i] = (final_df.loc['I1I2I3', 'Values']/ df1.loc[i, 'Values'])*100"
   ]
  },
  {
   "cell_type": "markdown",
   "metadata": {},
   "source": [
    "# Association rules generated"
   ]
  },
  {
   "cell_type": "code",
   "execution_count": 15,
   "metadata": {},
   "outputs": [
    {
     "name": "stdout",
     "output_type": "stream",
     "text": [
      "Confidence for I1I2 = 50.0%\n",
      "Confidence for I1I3 = 50.0%\n",
      "Confidence for I2I3 = 50.0%\n",
      "Confidence for I1 = 33.33%\n",
      "Confidence for I2 = 28.57%\n",
      "Confidence for I3 = 33.33%\n",
      "Confidence for I1I2 = 50.0%\n",
      "Confidence for I1I5 = 100.0%\n",
      "Confidence for I2I5 = 100.0%\n",
      "Confidence for I1 = 33.33%\n",
      "Confidence for I2 = 28.57%\n",
      "Confidence for I5 = 100.0%\n"
     ]
    }
   ],
   "source": [
    "for keys, values in c1.items():\n",
    "    print('Confidence for {} = {}%'.format(keys,round(values, 2)))\n",
    "for keys, values in c2.items():\n",
    "    print('Confidence for {} = {}%'.format(keys,round(values, 2)))"
   ]
  },
  {
   "cell_type": "code",
   "execution_count": 16,
   "metadata": {},
   "outputs": [],
   "source": [
    "min_condidence = 70.0\n",
    "d_strong = {}\n",
    "d_weak = {}\n",
    "for keys, values in c1.items():\n",
    "    if values >= min_condidence:\n",
    "        d_strong[keys] = values\n",
    "    else:\n",
    "        d_weak[keys] = values\n",
    "for keys, values in c2.items():\n",
    "    if values >= min_condidence:\n",
    "        d_strong[keys] = values\n",
    "    else:\n",
    "        d_weak[keys] = values"
   ]
  },
  {
   "cell_type": "markdown",
   "metadata": {},
   "source": [
    "# Strong rules"
   ]
  },
  {
   "cell_type": "code",
   "execution_count": 17,
   "metadata": {},
   "outputs": [
    {
     "name": "stdout",
     "output_type": "stream",
     "text": [
      "Minimum confidence = 70% \n",
      "\n",
      "Strong rules : \n",
      "Confidence for I1I5 = 100.0%\n",
      "Confidence for I2I5 = 100.0%\n",
      "Confidence for I5 = 100.0%\n"
     ]
    }
   ],
   "source": [
    "print('Minimum confidence = 70% \\n')\n",
    "print('Strong rules : ')\n",
    "for keys, values in d_strong.items():\n",
    "    print('Confidence for {} = {}%'.format(keys,round(values, 2)))"
   ]
  },
  {
   "cell_type": "markdown",
   "metadata": {},
   "source": [
    "# Weak rules"
   ]
  },
  {
   "cell_type": "code",
   "execution_count": 18,
   "metadata": {},
   "outputs": [
    {
     "name": "stdout",
     "output_type": "stream",
     "text": [
      "Minimum confidence = 70% \n",
      "\n",
      "Weak rules : \n",
      "Confidence for I1I2 = 50.0%\n",
      "Confidence for I1I3 = 50.0%\n",
      "Confidence for I2I3 = 50.0%\n",
      "Confidence for I1 = 33.33%\n",
      "Confidence for I2 = 28.57%\n",
      "Confidence for I3 = 33.33%\n"
     ]
    }
   ],
   "source": [
    "print('Minimum confidence = 70% \\n')\n",
    "print('Weak rules : ')\n",
    "for keys, values in d_weak.items():\n",
    "    print('Confidence for {} = {}%'.format(keys,round(values, 2)))"
   ]
  },
  {
   "cell_type": "code",
   "execution_count": null,
   "metadata": {},
   "outputs": [],
   "source": []
  },
  {
   "cell_type": "code",
   "execution_count": null,
   "metadata": {},
   "outputs": [],
   "source": []
  }
 ],
 "metadata": {
  "kernelspec": {
   "display_name": "Python 3 (ipykernel)",
   "language": "python",
   "name": "python3"
  },
  "language_info": {
   "codemirror_mode": {
    "name": "ipython",
    "version": 3
   },
   "file_extension": ".py",
   "mimetype": "text/x-python",
   "name": "python",
   "nbconvert_exporter": "python",
   "pygments_lexer": "ipython3",
   "version": "3.7.4"
  },
  "toc": {
   "base_numbering": 1,
   "nav_menu": {},
   "number_sections": true,
   "sideBar": false,
   "skip_h1_title": false,
   "title_cell": "Table of Contents",
   "title_sidebar": "Contents",
   "toc_cell": true,
   "toc_position": {},
   "toc_section_display": true,
   "toc_window_display": false
  }
 },
 "nbformat": 4,
 "nbformat_minor": 2
}
